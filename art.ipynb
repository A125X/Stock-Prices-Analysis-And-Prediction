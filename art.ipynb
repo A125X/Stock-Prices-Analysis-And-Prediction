{
  "nbformat": 4,
  "nbformat_minor": 0,
  "metadata": {
    "colab": {
      "provenance": [],
      "authorship_tag": "ABX9TyPK8ZRqfj1mN7n5rr5m/CgA",
      "include_colab_link": true
    },
    "kernelspec": {
      "name": "python3",
      "display_name": "Python 3"
    },
    "language_info": {
      "name": "python"
    }
  },
  "cells": [
    {
      "cell_type": "markdown",
      "metadata": {
        "id": "view-in-github",
        "colab_type": "text"
      },
      "source": [
        "<a href=\"https://colab.research.google.com/github/A125X/bitcoin-price-prediction/blob/main/art.ipynb\" target=\"_parent\"><img src=\"https://colab.research.google.com/assets/colab-badge.svg\" alt=\"Open In Colab\"/></a>"
      ]
    },
    {
      "cell_type": "code",
      "source": [
        "max_trials = 10\n",
        "epochs = 100"
      ],
      "metadata": {
        "id": "DosgP-eK8GRk"
      },
      "execution_count": 37,
      "outputs": []
    },
    {
      "cell_type": "code",
      "execution_count": 38,
      "metadata": {
        "colab": {
          "base_uri": "https://localhost:8080/"
        },
        "id": "iwPTFDHQsA7L",
        "outputId": "b27daaea-e999-4590-d71b-a0eacc28a9e6"
      },
      "outputs": [
        {
          "output_type": "stream",
          "name": "stdout",
          "text": [
            "Looking in indexes: https://pypi.org/simple, https://us-python.pkg.dev/colab-wheels/public/simple/\n",
            "Requirement already satisfied: keras-tuner in /usr/local/lib/python3.8/dist-packages (1.1.3)\n",
            "Requirement already satisfied: numpy in /usr/local/lib/python3.8/dist-packages (from keras-tuner) (1.21.6)\n",
            "Requirement already satisfied: kt-legacy in /usr/local/lib/python3.8/dist-packages (from keras-tuner) (1.0.4)\n",
            "Requirement already satisfied: ipython in /usr/local/lib/python3.8/dist-packages (from keras-tuner) (7.9.0)\n",
            "Requirement already satisfied: requests in /usr/local/lib/python3.8/dist-packages (from keras-tuner) (2.28.1)\n",
            "Requirement already satisfied: tensorboard in /usr/local/lib/python3.8/dist-packages (from keras-tuner) (2.9.1)\n",
            "Requirement already satisfied: packaging in /usr/local/lib/python3.8/dist-packages (from keras-tuner) (21.3)\n",
            "Requirement already satisfied: jedi>=0.10 in /usr/local/lib/python3.8/dist-packages (from ipython->keras-tuner) (0.18.2)\n",
            "Requirement already satisfied: pygments in /usr/local/lib/python3.8/dist-packages (from ipython->keras-tuner) (2.6.1)\n",
            "Requirement already satisfied: decorator in /usr/local/lib/python3.8/dist-packages (from ipython->keras-tuner) (4.4.2)\n",
            "Requirement already satisfied: pexpect in /usr/local/lib/python3.8/dist-packages (from ipython->keras-tuner) (4.8.0)\n",
            "Requirement already satisfied: setuptools>=18.5 in /usr/local/lib/python3.8/dist-packages (from ipython->keras-tuner) (57.4.0)\n",
            "Requirement already satisfied: traitlets>=4.2 in /usr/local/lib/python3.8/dist-packages (from ipython->keras-tuner) (5.7.1)\n",
            "Requirement already satisfied: pickleshare in /usr/local/lib/python3.8/dist-packages (from ipython->keras-tuner) (0.7.5)\n",
            "Requirement already satisfied: backcall in /usr/local/lib/python3.8/dist-packages (from ipython->keras-tuner) (0.2.0)\n",
            "Requirement already satisfied: prompt-toolkit<2.1.0,>=2.0.0 in /usr/local/lib/python3.8/dist-packages (from ipython->keras-tuner) (2.0.10)\n",
            "Requirement already satisfied: parso<0.9.0,>=0.8.0 in /usr/local/lib/python3.8/dist-packages (from jedi>=0.10->ipython->keras-tuner) (0.8.3)\n",
            "Requirement already satisfied: wcwidth in /usr/local/lib/python3.8/dist-packages (from prompt-toolkit<2.1.0,>=2.0.0->ipython->keras-tuner) (0.2.5)\n",
            "Requirement already satisfied: six>=1.9.0 in /usr/local/lib/python3.8/dist-packages (from prompt-toolkit<2.1.0,>=2.0.0->ipython->keras-tuner) (1.15.0)\n",
            "Requirement already satisfied: pyparsing!=3.0.5,>=2.0.2 in /usr/local/lib/python3.8/dist-packages (from packaging->keras-tuner) (3.0.9)\n",
            "Requirement already satisfied: ptyprocess>=0.5 in /usr/local/lib/python3.8/dist-packages (from pexpect->ipython->keras-tuner) (0.7.0)\n",
            "Requirement already satisfied: charset-normalizer<3,>=2 in /usr/local/lib/python3.8/dist-packages (from requests->keras-tuner) (2.1.1)\n",
            "Requirement already satisfied: urllib3<1.27,>=1.21.1 in /usr/local/lib/python3.8/dist-packages (from requests->keras-tuner) (1.24.3)\n",
            "Requirement already satisfied: certifi>=2017.4.17 in /usr/local/lib/python3.8/dist-packages (from requests->keras-tuner) (2022.12.7)\n",
            "Requirement already satisfied: idna<4,>=2.5 in /usr/local/lib/python3.8/dist-packages (from requests->keras-tuner) (2.10)\n",
            "Requirement already satisfied: markdown>=2.6.8 in /usr/local/lib/python3.8/dist-packages (from tensorboard->keras-tuner) (3.4.1)\n",
            "Requirement already satisfied: tensorboard-data-server<0.7.0,>=0.6.0 in /usr/local/lib/python3.8/dist-packages (from tensorboard->keras-tuner) (0.6.1)\n",
            "Requirement already satisfied: google-auth-oauthlib<0.5,>=0.4.1 in /usr/local/lib/python3.8/dist-packages (from tensorboard->keras-tuner) (0.4.6)\n",
            "Requirement already satisfied: werkzeug>=1.0.1 in /usr/local/lib/python3.8/dist-packages (from tensorboard->keras-tuner) (1.0.1)\n",
            "Requirement already satisfied: google-auth<3,>=1.6.3 in /usr/local/lib/python3.8/dist-packages (from tensorboard->keras-tuner) (2.15.0)\n",
            "Requirement already satisfied: wheel>=0.26 in /usr/local/lib/python3.8/dist-packages (from tensorboard->keras-tuner) (0.38.4)\n",
            "Requirement already satisfied: grpcio>=1.24.3 in /usr/local/lib/python3.8/dist-packages (from tensorboard->keras-tuner) (1.51.1)\n",
            "Requirement already satisfied: absl-py>=0.4 in /usr/local/lib/python3.8/dist-packages (from tensorboard->keras-tuner) (1.3.0)\n",
            "Requirement already satisfied: protobuf<3.20,>=3.9.2 in /usr/local/lib/python3.8/dist-packages (from tensorboard->keras-tuner) (3.19.6)\n",
            "Requirement already satisfied: tensorboard-plugin-wit>=1.6.0 in /usr/local/lib/python3.8/dist-packages (from tensorboard->keras-tuner) (1.8.1)\n",
            "Requirement already satisfied: pyasn1-modules>=0.2.1 in /usr/local/lib/python3.8/dist-packages (from google-auth<3,>=1.6.3->tensorboard->keras-tuner) (0.2.8)\n",
            "Requirement already satisfied: cachetools<6.0,>=2.0.0 in /usr/local/lib/python3.8/dist-packages (from google-auth<3,>=1.6.3->tensorboard->keras-tuner) (5.2.0)\n",
            "Requirement already satisfied: rsa<5,>=3.1.4 in /usr/local/lib/python3.8/dist-packages (from google-auth<3,>=1.6.3->tensorboard->keras-tuner) (4.9)\n",
            "Requirement already satisfied: requests-oauthlib>=0.7.0 in /usr/local/lib/python3.8/dist-packages (from google-auth-oauthlib<0.5,>=0.4.1->tensorboard->keras-tuner) (1.3.1)\n",
            "Requirement already satisfied: importlib-metadata>=4.4 in /usr/local/lib/python3.8/dist-packages (from markdown>=2.6.8->tensorboard->keras-tuner) (5.1.0)\n",
            "Requirement already satisfied: zipp>=0.5 in /usr/local/lib/python3.8/dist-packages (from importlib-metadata>=4.4->markdown>=2.6.8->tensorboard->keras-tuner) (3.11.0)\n",
            "Requirement already satisfied: pyasn1<0.5.0,>=0.4.6 in /usr/local/lib/python3.8/dist-packages (from pyasn1-modules>=0.2.1->google-auth<3,>=1.6.3->tensorboard->keras-tuner) (0.4.8)\n",
            "Requirement already satisfied: oauthlib>=3.0.0 in /usr/local/lib/python3.8/dist-packages (from requests-oauthlib>=0.7.0->google-auth-oauthlib<0.5,>=0.4.1->tensorboard->keras-tuner) (3.2.2)\n",
            "Looking in indexes: https://pypi.org/simple, https://us-python.pkg.dev/colab-wheels/public/simple/\n",
            "Requirement already satisfied: yfinance in /usr/local/lib/python3.8/dist-packages (0.1.90)\n",
            "Requirement already satisfied: pandas>=1.3.0 in /usr/local/lib/python3.8/dist-packages (from yfinance) (1.3.5)\n",
            "Requirement already satisfied: requests>=2.26 in /usr/local/lib/python3.8/dist-packages (from yfinance) (2.28.1)\n",
            "Requirement already satisfied: appdirs>=1.4.4 in /usr/local/lib/python3.8/dist-packages (from yfinance) (1.4.4)\n",
            "Requirement already satisfied: multitasking>=0.0.7 in /usr/local/lib/python3.8/dist-packages (from yfinance) (0.0.11)\n",
            "Requirement already satisfied: lxml>=4.9.1 in /usr/local/lib/python3.8/dist-packages (from yfinance) (4.9.2)\n",
            "Requirement already satisfied: numpy>=1.16.5 in /usr/local/lib/python3.8/dist-packages (from yfinance) (1.21.6)\n",
            "Requirement already satisfied: pytz>=2017.3 in /usr/local/lib/python3.8/dist-packages (from pandas>=1.3.0->yfinance) (2022.6)\n",
            "Requirement already satisfied: python-dateutil>=2.7.3 in /usr/local/lib/python3.8/dist-packages (from pandas>=1.3.0->yfinance) (2.8.2)\n",
            "Requirement already satisfied: six>=1.5 in /usr/local/lib/python3.8/dist-packages (from python-dateutil>=2.7.3->pandas>=1.3.0->yfinance) (1.15.0)\n",
            "Requirement already satisfied: certifi>=2017.4.17 in /usr/local/lib/python3.8/dist-packages (from requests>=2.26->yfinance) (2022.12.7)\n",
            "Requirement already satisfied: urllib3<1.27,>=1.21.1 in /usr/local/lib/python3.8/dist-packages (from requests>=2.26->yfinance) (1.24.3)\n",
            "Requirement already satisfied: idna<4,>=2.5 in /usr/local/lib/python3.8/dist-packages (from requests>=2.26->yfinance) (2.10)\n",
            "Requirement already satisfied: charset-normalizer<3,>=2 in /usr/local/lib/python3.8/dist-packages (from requests>=2.26->yfinance) (2.1.1)\n"
          ]
        }
      ],
      "source": [
        "import numpy as np\n",
        "import pandas as pd\n",
        "from tensorflow.keras.models import Sequential\n",
        "from tensorflow.keras.layers import LSTM,Dense,Dropout, Activation\n",
        "import tensorflow as tf\n",
        "from tensorflow.keras.optimizers import Adam\n",
        "import matplotlib.pyplot as plt\n",
        "from sklearn.model_selection import train_test_split\n",
        "from sklearn.preprocessing import MinMaxScaler\n",
        "!pip install keras-tuner\n",
        "from kerastuner import HyperModel\n",
        "from kerastuner.tuners import RandomSearch\n",
        "from tensorflow.keras.models import load_model\n",
        "!pip install yfinance\n",
        "import yfinance as yf\n",
        "from datetime import datetime\n",
        "import pandas as pd\n",
        "from numpy import concatenate"
      ]
    },
    {
      "cell_type": "code",
      "source": [
        "#Ensuring the use of gpu tensorflow\n",
        "\n",
        "if tf.test.gpu_device_name(): \n",
        "    print('Default GPU Device:{}'.format(tf.test.gpu_device_name()))\n",
        "else:\n",
        "   print(\"Please install GPU version of TF\")"
      ],
      "metadata": {
        "colab": {
          "base_uri": "https://localhost:8080/"
        },
        "id": "gmH5dhq4sabP",
        "outputId": "f0b48dda-8044-48a2-a0e8-1781c5b7b147"
      },
      "execution_count": 39,
      "outputs": [
        {
          "output_type": "stream",
          "name": "stdout",
          "text": [
            "Please install GPU version of TF\n"
          ]
        }
      ]
    },
    {
      "cell_type": "code",
      "source": [
        "#Enter info regarding model\n",
        "\n",
        "num_inputs=4\n",
        "look_back = 60\n",
        "forward_days = 1\n",
        "num_periods = 20"
      ],
      "metadata": {
        "id": "V0_f-8_dsb_L"
      },
      "execution_count": 40,
      "outputs": []
    },
    {
      "cell_type": "code",
      "source": [
        "#data\n",
        "\n",
        "today = datetime.today().strftime('%Y-%m-%d')\n",
        "idx = pd.date_range('2017-01-01', today)\n",
        "\n",
        "df_A = yf.download(\"BTC-USD\", start=\"2018-01-01\", end=today)\n",
        "df_A = df_A[\"Close\"]\n",
        "df_A = df_A.reindex(idx, fill_value=0, method=\"nearest\")\n",
        "\n",
        "plt.plot(df_A)"
      ],
      "metadata": {
        "colab": {
          "base_uri": "https://localhost:8080/",
          "height": 301
        },
        "id": "lqLrEofXsfaF",
        "outputId": "7e6016e5-ed60-4620-cfb4-736a6016c4b4"
      },
      "execution_count": 41,
      "outputs": [
        {
          "output_type": "stream",
          "name": "stdout",
          "text": [
            "\r[*********************100%***********************]  1 of 1 completed\n"
          ]
        },
        {
          "output_type": "execute_result",
          "data": {
            "text/plain": [
              "[<matplotlib.lines.Line2D at 0x7f20c490a430>]"
            ]
          },
          "metadata": {},
          "execution_count": 41
        },
        {
          "output_type": "display_data",
          "data": {
            "text/plain": [
              "<Figure size 432x288 with 1 Axes>"
            ],
            "image/png": "[encoded data removed]"
          },
          "metadata": {
            "needs_background": "light"
          }
        }
      ]
    },
    {
      "cell_type": "code",
      "source": [
        "type(df_A)"
      ],
      "metadata": {
        "colab": {
          "base_uri": "https://localhost:8080/"
        },
        "id": "NBpGYDNhwsKW",
        "outputId": "522e761b-9d74-4892-81be-ff746bc5f669"
      },
      "execution_count": 42,
      "outputs": [
        {
          "output_type": "execute_result",
          "data": {
            "text/plain": [
              "pandas.core.series.Series"
            ]
          },
          "metadata": {},
          "execution_count": 42
        }
      ]
    },
    {
      "cell_type": "code",
      "source": [
        "df_B = yf.download(\"%5EGSPC\", start=\"2018-01-01\", end=today)\n",
        "df_B = df_B[\"Close\"]\n",
        "df_B = df_B.reindex(idx, fill_value=0, method=\"nearest\")\n",
        "\n",
        "plt.plot(df_B)"
      ],
      "metadata": {
        "colab": {
          "base_uri": "https://localhost:8080/",
          "height": 299
        },
        "id": "TzQgZ8Ajsv8B",
        "outputId": "6b9a07c6-db5a-477a-c56e-25e1a9a28d66"
      },
      "execution_count": 43,
      "outputs": [
        {
          "output_type": "stream",
          "name": "stdout",
          "text": [
            "\r[*********************100%***********************]  1 of 1 completed\n"
          ]
        },
        {
          "output_type": "execute_result",
          "data": {
            "text/plain": [
              "[<matplotlib.lines.Line2D at 0x7f20c4760ac0>]"
            ]
          },
          "metadata": {},
          "execution_count": 43
        },
        {
          "output_type": "display_data",
          "data": {
            "text/plain": [
              "<Figure size 432x288 with 1 Axes>"
            ],
            "image/png": "[encoded data removed]"
          },
          "metadata": {
            "needs_background": "light"
          }
        }
      ]
    },
    {
      "cell_type": "code",
      "source": [
        "df_C = yf.download(\"DX-Y.NYB\", start=\"2018-01-01\", end=today)\n",
        "df_C = df_C[\"Close\"]\n",
        "df_C = df_C.reindex(idx, fill_value=0, method=\"nearest\")\n",
        "\n",
        "plt.plot(df_C)"
      ],
      "metadata": {
        "colab": {
          "base_uri": "https://localhost:8080/",
          "height": 300
        },
        "id": "GnWWITcss3Bk",
        "outputId": "e76fe023-5b4b-43af-861a-205acbd26c05"
      },
      "execution_count": 44,
      "outputs": [
        {
          "output_type": "stream",
          "name": "stdout",
          "text": [
            "\r[*********************100%***********************]  1 of 1 completed\n"
          ]
        },
        {
          "output_type": "execute_result",
          "data": {
            "text/plain": [
              "[<matplotlib.lines.Line2D at 0x7f20c6e131f0>]"
            ]
          },
          "metadata": {},
          "execution_count": 44
        },
        {
          "output_type": "display_data",
          "data": {
            "text/plain": [
              "<Figure size 432x288 with 1 Axes>"
            ],
            "image/png": "[encoded data removed]"
          },
          "metadata": {
            "needs_background": "light"
          }
        }
      ]
    },
    {
      "cell_type": "code",
      "source": [
        "df_D = yf.download(\"GC=F\", start=\"2018-01-01\", end=today)\n",
        "df_D = df_D[\"Close\"]\n",
        "df_D = df_D.reindex(idx, fill_value=0, method=\"nearest\")\n",
        "\n",
        "plt.plot(df_D)"
      ],
      "metadata": {
        "colab": {
          "base_uri": "https://localhost:8080/",
          "height": 299
        },
        "id": "DHezgzJOs-9Y",
        "outputId": "c3b11522-9034-4193-b0ae-3180845161b4"
      },
      "execution_count": 45,
      "outputs": [
        {
          "output_type": "stream",
          "name": "stdout",
          "text": [
            "\r[*********************100%***********************]  1 of 1 completed\n"
          ]
        },
        {
          "output_type": "execute_result",
          "data": {
            "text/plain": [
              "[<matplotlib.lines.Line2D at 0x7f20c6e4b940>]"
            ]
          },
          "metadata": {},
          "execution_count": 45
        },
        {
          "output_type": "display_data",
          "data": {
            "text/plain": [
              "<Figure size 432x288 with 1 Axes>"
            ],
            "image/png": "[encoded data removed]"
          },
          "metadata": {
            "needs_background": "light"
          }
        }
      ]
    },
    {
      "cell_type": "code",
      "source": [
        "df_E = yf.download(\"XMR-USD\", start=\"2018-01-01\", end=today)[\"Close\"]\n",
        "df_E = df_E.reindex(idx, fill_value=0, method=\"nearest\")\n",
        "\n",
        "plt.plot(df_E)"
      ],
      "metadata": {
        "colab": {
          "base_uri": "https://localhost:8080/",
          "height": 301
        },
        "id": "mJq80e5aw2LO",
        "outputId": "38590939-61e1-4056-9e94-d2f76b3a06fb"
      },
      "execution_count": 46,
      "outputs": [
        {
          "output_type": "stream",
          "name": "stdout",
          "text": [
            "\r[*********************100%***********************]  1 of 1 completed\n"
          ]
        },
        {
          "output_type": "execute_result",
          "data": {
            "text/plain": [
              "[<matplotlib.lines.Line2D at 0x7f20c6db27c0>]"
            ]
          },
          "metadata": {},
          "execution_count": 46
        },
        {
          "output_type": "display_data",
          "data": {
            "text/plain": [
              "<Figure size 432x288 with 1 Axes>"
            ],
            "image/png": "[encoded data removed]"
          },
          "metadata": {
            "needs_background": "light"
          }
        }
      ]
    },
    {
      "cell_type": "code",
      "source": [
        "timeseries = pd.concat([df_A, df_B, df_C, df_D], axis=1)\n",
        "\n",
        "timeseries.columns=([\"Close-btc\", \"Close-sp500\", \"Close-dxy\", \"Close-gold\"])"
      ],
      "metadata": {
        "id": "U8FKx7U0tEfz"
      },
      "execution_count": 47,
      "outputs": []
    },
    {
      "cell_type": "code",
      "source": [
        "scl = MinMaxScaler()\n",
        "\n",
        "timeseries[[\"Close-btc\", \"Close-sp500\", \"Close-dxy\", \"Close-gold\"]] = scl.fit_transform(timeseries[[\"Close-btc\", \"Close-sp500\", \"Close-dxy\", \"Close-gold\"]])\n",
        "\n",
        "timeseries[\"Close-btc-output\"] = timeseries[\"Close-btc\"].shift(-1)\n",
        "timeseries.drop(timeseries.tail(1).index, inplace=True)\n",
        "\n",
        "array = timeseries.values\n",
        "\n",
        "timeseries.head()"
      ],
      "metadata": {
        "colab": {
          "base_uri": "https://localhost:8080/",
          "height": 204
        },
        "id": "MtgMV_GwtPFu",
        "outputId": "e84d50be-cfd3-48b9-e59b-94ad660a88d2"
      },
      "execution_count": 48,
      "outputs": [
        {
          "output_type": "execute_result",
          "data": {
            "text/plain": [
              "            Close-btc  Close-sp500  Close-dxy  Close-gold  Close-btc-output\n",
              "2017-01-01   0.161984     0.179125   0.127743    0.157089          0.161984\n",
              "2017-01-02   0.161984     0.179125   0.127743    0.157089          0.161984\n",
              "2017-01-03   0.161984     0.179125   0.127743    0.157089          0.161984\n",
              "2017-01-04   0.161984     0.179125   0.127743    0.157089          0.161984\n",
              "2017-01-05   0.161984     0.179125   0.127743    0.157089          0.161984"
            ],
            "text/html": [
              "\n",
              "  <div id=\"df-a5ac5d46-7ea5-4e54-99c1-a155012792e9\">\n",
              "    <div class=\"colab-df-container\">\n",
              "      <div>\n",
              "<style scoped>\n",
              "    .dataframe tbody tr th:only-of-type {\n",
              "        vertical-align: middle;\n",
              "    }\n",
              "\n",
              "    .dataframe tbody tr th {\n",
              "        vertical-align: top;\n",
              "    }\n",
              "\n",
              "    .dataframe thead th {\n",
              "        text-align: right;\n",
              "    }\n",
              "</style>\n",
              "<table border=\"1\" class=\"dataframe\">\n",
              "  <thead>\n",
              "    <tr style=\"text-align: right;\">\n",
              "      <th></th>\n",
              "      <th>Close-btc</th>\n",
              "      <th>Close-sp500</th>\n",
              "      <th>Close-dxy</th>\n",
              "      <th>Close-gold</th>\n",
              "      <th>Close-btc-output</th>\n",
              "    </tr>\n",
              "  </thead>\n",
              "  <tbody>\n",
              "    <tr>\n",
              "      <th>2017-01-01</th>\n",
              "      <td>0.161984</td>\n",
              "      <td>0.179125</td>\n",
              "      <td>0.127743</td>\n",
              "      <td>0.157089</td>\n",
              "      <td>0.161984</td>\n",
              "    </tr>\n",
              "    <tr>\n",
              "      <th>2017-01-02</th>\n",
              "      <td>0.161984</td>\n",
              "      <td>0.179125</td>\n",
              "      <td>0.127743</td>\n",
              "      <td>0.157089</td>\n",
              "      <td>0.161984</td>\n",
              "    </tr>\n",
              "    <tr>\n",
              "      <th>2017-01-03</th>\n",
              "      <td>0.161984</td>\n",
              "      <td>0.179125</td>\n",
              "      <td>0.127743</td>\n",
              "      <td>0.157089</td>\n",
              "      <td>0.161984</td>\n",
              "    </tr>\n",
              "    <tr>\n",
              "      <th>2017-01-04</th>\n",
              "      <td>0.161984</td>\n",
              "      <td>0.179125</td>\n",
              "      <td>0.127743</td>\n",
              "      <td>0.157089</td>\n",
              "      <td>0.161984</td>\n",
              "    </tr>\n",
              "    <tr>\n",
              "      <th>2017-01-05</th>\n",
              "      <td>0.161984</td>\n",
              "      <td>0.179125</td>\n",
              "      <td>0.127743</td>\n",
              "      <td>0.157089</td>\n",
              "      <td>0.161984</td>\n",
              "    </tr>\n",
              "  </tbody>\n",
              "</table>\n",
              "</div>\n",
              "      <button class=\"colab-df-convert\" onclick=\"convertToInteractive('df-a5ac5d46-7ea5-4e54-99c1-a155012792e9')\"\n",
              "              title=\"Convert this dataframe to an interactive table.\"\n",
              "              style=\"display:none;\">\n",
              "        \n",
              "  <svg xmlns=\"http://www.w3.org/2000/svg\" height=\"24px\"viewBox=\"0 0 24 24\"\n",
              "       width=\"24px\">\n",
              "    <path d=\"M0 0h24v24H0V0z\" fill=\"none\"/>\n",
              "    <path d=\"M18.56 5.44l.94 2.06.94-2.06 2.06-.94-2.06-.94-.94-2.06-.94 2.06-2.06.94zm-11 1L8.5 8.5l.94-2.06 2.06-.94-2.06-.94L8.5 2.5l-.94 2.06-2.06.94zm10 10l.94 2.06.94-2.06 2.06-.94-2.06-.94-.94-2.06-.94 2.06-2.06.94z\"/><path d=\"M17.41 7.96l-1.37-1.37c-.4-.4-.92-.59-1.43-.59-.52 0-1.04.2-1.43.59L10.3 9.45l-7.72 7.72c-.78.78-.78 2.05 0 2.83L4 21.41c.39.39.9.59 1.41.59.51 0 1.02-.2 1.41-.59l7.78-7.78 2.81-2.81c.8-.78.8-2.07 0-2.86zM5.41 20L4 18.59l7.72-7.72 1.47 1.35L5.41 20z\"/>\n",
              "  </svg>\n",
              "      </button>\n",
              "      \n",
              "  <style>\n",
              "    .colab-df-container {\n",
              "      display:flex;\n",
              "      flex-wrap:wrap;\n",
              "      gap: 12px;\n",
              "    }\n",
              "\n",
              "    .colab-df-convert {\n",
              "      background-color: #E8F0FE;\n",
              "      border: none;\n",
              "      border-radius: 50%;\n",
              "      cursor: pointer;\n",
              "      display: none;\n",
              "      fill: #1967D2;\n",
              "      height: 32px;\n",
              "      padding: 0 0 0 0;\n",
              "      width: 32px;\n",
              "    }\n",
              "\n",
              "    .colab-df-convert:hover {\n",
              "      background-color: #E2EBFA;\n",
              "      box-shadow: 0px 1px 2px rgba(60, 64, 67, 0.3), 0px 1px 3px 1px rgba(60, 64, 67, 0.15);\n",
              "      fill: #174EA6;\n",
              "    }\n",
              "\n",
              "    [theme=dark] .colab-df-convert {\n",
              "      background-color: #3B4455;\n",
              "      fill: #D2E3FC;\n",
              "    }\n",
              "\n",
              "    [theme=dark] .colab-df-convert:hover {\n",
              "      background-color: #434B5C;\n",
              "      box-shadow: 0px 1px 3px 1px rgba(0, 0, 0, 0.15);\n",
              "      filter: drop-shadow(0px 1px 2px rgba(0, 0, 0, 0.3));\n",
              "      fill: #FFFFFF;\n",
              "    }\n",
              "  </style>\n",
              "\n",
              "      <script>\n",
              "        const buttonEl =\n",
              "          document.querySelector('#df-a5ac5d46-7ea5-4e54-99c1-a155012792e9 button.colab-df-convert');\n",
              "        buttonEl.style.display =\n",
              "          google.colab.kernel.accessAllowed ? 'block' : 'none';\n",
              "\n",
              "        async function convertToInteractive(key) {\n",
              "          const element = document.querySelector('#df-a5ac5d46-7ea5-4e54-99c1-a155012792e9');\n",
              "          const dataTable =\n",
              "            await google.colab.kernel.invokeFunction('convertToInteractive',\n",
              "                                                     [key], {});\n",
              "          if (!dataTable) return;\n",
              "\n",
              "          const docLinkHtml = 'Like what you see? Visit the ' +\n",
              "            '<a target=\"_blank\" href=https://colab.research.google.com/notebooks/data_table.ipynb>data table notebook</a>'\n",
              "            + ' to learn more about interactive tables.';\n",
              "          element.innerHTML = '';\n",
              "          dataTable['output_type'] = 'display_data';\n",
              "          await google.colab.output.renderOutput(dataTable, element);\n",
              "          const docLink = document.createElement('div');\n",
              "          docLink.innerHTML = docLinkHtml;\n",
              "          element.appendChild(docLink);\n",
              "        }\n",
              "      </script>\n",
              "    </div>\n",
              "  </div>\n",
              "  "
            ]
          },
          "metadata": {},
          "execution_count": 48
        }
      ]
    },
    {
      "cell_type": "code",
      "source": [
        "#split in Train and Test\n",
        "division = len(array) - num_periods*forward_days\n",
        "\n",
        "array_test = array[division:]\n",
        "array_train = array[:division]\n",
        "# split into input and outputs\n",
        "X_train, Y_train = array_train[:, :-1], array_train[:, -1]\n",
        "X_test, Y_test = array_test[:, :-1], array_test[:, -1]\n",
        "# reshape input to be 3D [samples, timesteps, features]\n",
        "X_train = X_train.reshape((X_train.shape[0], 1, X_train.shape[1]))\n",
        "X_test = X_test.reshape((X_test.shape[0], 1, X_test.shape[1]))\n",
        "\n",
        "X_train, X_validate, Y_train, Y_validate = train_test_split(X_train, Y_train, test_size=0.20, random_state=42)"
      ],
      "metadata": {
        "id": "vYforQabtWmC"
      },
      "execution_count": 49,
      "outputs": []
    },
    {
      "cell_type": "code",
      "source": [
        "#Training the model\n",
        "\n",
        "class MyHyperModel(HyperModel):\n",
        "\n",
        "    def __init__(self, num_classes):\n",
        "        self.num_classes = num_classes\n",
        "\n",
        "    def build(self, hp):\n",
        "        \n",
        "        # Specify model\n",
        "        model = Sequential()\n",
        "        NUM_NEURONS_FirstLayer = hp.Choice('NUM_NEURONS_FirstLayer',values=[80, 90, 100, 120])\n",
        "\n",
        "        model.add(LSTM(NUM_NEURONS_FirstLayer,input_shape=(X_train.shape[1],X_train.shape[2]), return_sequences=True))\n",
        "\n",
        "        model.add(Dropout(hp.Float('dropout_1', 0, 0.4, step=0.1, default=0)))\n",
        "\n",
        "        \n",
        "        NUM_NEURONS_SecondLayer = hp.Choice('NUM_NEURONS_SecondLayer',values=[30, 40, 50, 60, 70])\n",
        "        model.add(LSTM(NUM_NEURONS_SecondLayer,input_shape=(NUM_NEURONS_FirstLayer,1)))\n",
        "\n",
        "        model.add(Dropout(hp.Float('dropout_2', 0, 0.4, step=0.1, default=0)))\n",
        "\n",
        "        # Output layer\n",
        "        model.add(Dense(forward_days, activation='linear'))\n",
        "\n",
        "        # Compile the constructed model and return it\n",
        "        model.compile(\n",
        "            optimizer=Adam(\n",
        "                hp.Choice('learning_rate',\n",
        "                          values=[0.01, 0.001, 0.0001])),\n",
        "            loss='mean_squared_error')\n",
        "\n",
        "        return model\n",
        "\n",
        "hypermodel = MyHyperModel(num_classes=1)    "
      ],
      "metadata": {
        "id": "b4LBZ3WCuXHV"
      },
      "execution_count": 50,
      "outputs": []
    },
    {
      "cell_type": "code",
      "source": [
        "# Construct the RandomSearch tuner\n",
        "random_tuner = RandomSearch(\n",
        "    hypermodel,\n",
        "    objective='val_loss',\n",
        "    max_trials=max_trials,\n",
        "    executions_per_trial = 1,\n",
        "    seed=10, \n",
        "    project_name='lstm-kerastuner-multi',\n",
        "    directory=\"models-temp\")\n",
        "\n",
        "# Search for the best parameters of the neural network using the contructed random search tuner\n",
        "random_tuner.search(X_train, Y_train,\n",
        "             epochs=epochs,\n",
        "             validation_data=(X_validate, Y_validate))"
      ],
      "metadata": {
        "colab": {
          "base_uri": "https://localhost:8080/"
        },
        "id": "dxrnJW0iu9AE",
        "outputId": "ec9912aa-552d-4e2f-fece-01e37dbc91e9"
      },
      "execution_count": null,
      "outputs": [
        {
          "output_type": "stream",
          "name": "stdout",
          "text": [
            "Trial 3 Complete [00h 00m 35s]\n",
            "val_loss: 0.000409756728913635\n",
            "\n",
            "Best val_loss So Far: 0.0002069306356133893\n",
            "Total elapsed time: 00h 02m 00s\n",
            "\n",
            "Search: Running Trial #4\n",
            "\n",
            "Value             |Best Value So Far |Hyperparameter\n",
            "120               |80                |NUM_NEURONS_FirstLayer\n",
            "0.3               |0.2               |dropout_1\n",
            "60                |60                |NUM_NEURONS_SecondLayer\n",
            "0                 |0.1               |dropout_2\n",
            "0.0001            |0.01              |learning_rate\n",
            "\n",
            "Epoch 1/100\n",
            "54/54 [==============================] - 5s 30ms/step - loss: 0.1096 - val_loss: 0.1106\n",
            "Epoch 2/100\n",
            "54/54 [==============================] - 0s 6ms/step - loss: 0.0869 - val_loss: 0.0850\n",
            "Epoch 3/100\n",
            "54/54 [==============================] - 0s 6ms/step - loss: 0.0638 - val_loss: 0.0593\n",
            "Epoch 4/100\n",
            "54/54 [==============================] - 0s 6ms/step - loss: 0.0427 - val_loss: 0.0390\n",
            "Epoch 5/100\n",
            "54/54 [==============================] - 0s 6ms/step - loss: 0.0306 - val_loss: 0.0289\n",
            "Epoch 6/100\n",
            "54/54 [==============================] - 0s 6ms/step - loss: 0.0253 - val_loss: 0.0241\n",
            "Epoch 7/100\n",
            "54/54 [==============================] - 0s 6ms/step - loss: 0.0214 - val_loss: 0.0203\n",
            "Epoch 8/100\n",
            "54/54 [==============================] - 0s 6ms/step - loss: 0.0176 - val_loss: 0.0166\n",
            "Epoch 9/100\n",
            "54/54 [==============================] - 0s 6ms/step - loss: 0.0147 - val_loss: 0.0132\n",
            "Epoch 10/100\n",
            "54/54 [==============================] - 0s 6ms/step - loss: 0.0116 - val_loss: 0.0104\n",
            "Epoch 11/100\n",
            "54/54 [==============================] - 0s 6ms/step - loss: 0.0090 - val_loss: 0.0080\n",
            "Epoch 12/100\n",
            "54/54 [==============================] - 0s 6ms/step - loss: 0.0068 - val_loss: 0.0063\n",
            "Epoch 13/100\n",
            "54/54 [==============================] - 0s 6ms/step - loss: 0.0060 - val_loss: 0.0050\n",
            "Epoch 14/100\n",
            "47/54 [=========================>....] - ETA: 0s - loss: 0.0049"
          ]
        }
      ]
    },
    {
      "cell_type": "code",
      "source": [
        "#get the best model\n",
        "\n",
        "random_params = random_tuner.get_best_hyperparameters()[0]\n",
        "best_model = random_tuner.get_best_models(1)[0]"
      ],
      "metadata": {
        "id": "mGZvpdWswAkS"
      },
      "execution_count": null,
      "outputs": []
    },
    {
      "cell_type": "code",
      "source": [
        "#Evaluate it on the validation test\n",
        "\n",
        "print(\"Evalutation of best performing model:\")\n",
        "print(best_model.evaluate(X_validate, Y_validate))"
      ],
      "metadata": {
        "id": "vkxHWGl2wFWa"
      },
      "execution_count": null,
      "outputs": []
    },
    {
      "cell_type": "code",
      "source": [
        "#Get summary\n",
        "\n",
        "random_tuner.results_summary()"
      ],
      "metadata": {
        "id": "nMybW9ihwKi5"
      },
      "execution_count": null,
      "outputs": []
    },
    {
      "cell_type": "code",
      "source": [
        "#Saving the model\n",
        "\n",
        "file_name = 'LSTM_BTC_tuned_multi.h5'\n",
        "best_model.save(file_name)\n",
        "print(\"Saved model `{}` to disk\".format(file_name))"
      ],
      "metadata": {
        "id": "QQ2tp3t1wPID"
      },
      "execution_count": null,
      "outputs": []
    },
    {
      "cell_type": "code",
      "source": [
        "#Predict \n",
        "\n",
        "yhat = best_model.predict(X_test)\n",
        "X_test = X_test.reshape((X_test.shape[0], X_test.shape[2]))\n",
        "\n",
        "inv_yhat = concatenate((yhat, X_test[:,1:]), axis=1)\n",
        "inv_yhat = scl.inverse_transform(inv_yhat)\n",
        "inv_yhat = inv_yhat[:,0]\n",
        "\n",
        "Y_test = Y_test.reshape((len(Y_test)), 1)\n",
        "inv_y = concatenate((Y_test, X_test[:, 1:]), axis=1)\n",
        "inv_y = scl.inverse_transform(inv_y)\n",
        "inv_y = inv_y[:,0]\n",
        "\n",
        "plt.figure(figsize = (15,10))\n",
        "plt.plot(inv_yhat, color='r', label='Prediction') \n",
        "plt.plot(inv_y, label='Target')\n",
        "plt.xticks(np.arange(0, 20, 1), np.arange(1, 21, 1))\n",
        "plt.xlabel('Days')\n",
        "plt.ylabel('USD')\n",
        "plt.legend(loc='best')\n",
        "plt.show()"
      ],
      "metadata": {
        "id": "gInG6rqJwTUm"
      },
      "execution_count": null,
      "outputs": []
    }
  ]
}