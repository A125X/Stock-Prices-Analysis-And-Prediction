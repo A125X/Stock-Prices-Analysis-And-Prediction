{
  "cells": [
    {
      "cell_type": "markdown",
      "metadata": {
        "id": "view-in-github",
        "colab_type": "text"
      },
      "source": [
        "<a href=\"https://colab.research.google.com/github/A125X/bitcoin-price-prediction/blob/main/btc_lstm_pred.ipynb\" target=\"_parent\"><img src=\"https://colab.research.google.com/assets/colab-badge.svg\" alt=\"Open In Colab\"/></a>"
      ]
    },
    {
      "cell_type": "code",
      "execution_count": 63,
      "metadata": {
        "id": "-odnbgFDtlzk"
      },
      "outputs": [],
      "source": [
        "import pandas as pd\n",
        "from datetime import timedelta\n",
        "import numpy as np\n",
        "import tensorflow as tf\n",
        "from sklearn.preprocessing import StandardScaler, MinMaxScaler\n",
        "from sklearn.metrics import mean_absolute_error\n",
        "from matplotlib import pyplot as plt\n",
        "from typing import List\n",
        "from tqdm.keras import TqdmCallback"
      ]
    },
    {
      "cell_type": "code",
      "execution_count": 74,
      "metadata": {
        "id": "CE1Pcju5tqx_"
      },
      "outputs": [],
      "source": [
        "df = pd.DataFrame(pd.read_csv(\"BTC-Hourly.csv\", parse_dates=[\"date\"]))"
      ]
    },
    {
      "cell_type": "code",
      "execution_count": 75,
      "metadata": {
        "colab": {
          "base_uri": "https://localhost:8080/"
        },
        "id": "9T_OuqICwudq",
        "outputId": "745faf34-ad4d-4e5b-8a03-3eb2c9544246"
      },
      "outputs": [
        {
          "output_type": "execute_result",
          "data": {
            "text/plain": [
              "(33259, 9)"
            ]
          },
          "metadata": {},
          "execution_count": 75
        }
      ],
      "source": [
        "df.shape"
      ]
    },
    {
      "cell_type": "code",
      "execution_count": 76,
      "metadata": {
        "colab": {
          "base_uri": "https://localhost:8080/",
          "height": 558
        },
        "id": "QoXGZ3hewxKN",
        "outputId": "7d433559-16e5-408b-b9e8-48ef6c2ebc3a"
      },
      "outputs": [
        {
          "output_type": "execute_result",
          "data": {
            "text/plain": [
              "          unix                date   symbol      open      high       low  \\\n",
              "0   1646092800 2022-03-01 00:00:00  BTC/USD  43221.71  43626.49  43185.48   \n",
              "1   1646089200 2022-02-28 23:00:00  BTC/USD  43085.30  43364.81  42892.37   \n",
              "2   1646085600 2022-02-28 22:00:00  BTC/USD  41657.23  44256.08  41650.29   \n",
              "3   1646082000 2022-02-28 21:00:00  BTC/USD  41917.09  41917.09  41542.60   \n",
              "4   1646078400 2022-02-28 20:00:00  BTC/USD  41361.99  41971.00  41284.11   \n",
              "5   1646074800 2022-02-28 19:00:00  BTC/USD  41228.49  41406.03  41036.37   \n",
              "6   1646071200 2022-02-28 18:00:00  BTC/USD  41432.91  41476.20  41032.06   \n",
              "7   1646067600 2022-02-28 17:00:00  BTC/USD  41031.78  41432.91  40524.73   \n",
              "8   1646064000 2022-02-28 16:00:00  BTC/USD  40860.33  41341.18  40710.00   \n",
              "9   1646060400 2022-02-28 15:00:00  BTC/USD  39830.50  40912.56  39634.59   \n",
              "10  1646056800 2022-02-28 14:00:00  BTC/USD  38021.83  39913.48  38021.83   \n",
              "11  1646053200 2022-02-28 13:00:00  BTC/USD  38258.03  38365.84  37914.32   \n",
              "12  1646049600 2022-02-28 12:00:00  BTC/USD  38365.56  38669.43  38197.52   \n",
              "13  1646046000 2022-02-28 11:00:00  BTC/USD  38407.79  38505.31  38146.67   \n",
              "14  1646042400 2022-02-28 10:00:00  BTC/USD  38114.28  38474.51  38104.13   \n",
              "\n",
              "       close  Volume BTC    Volume USD  \n",
              "0   43312.27   52.056320  2.254677e+06  \n",
              "1   43178.98  106.816103  4.612210e+06  \n",
              "2   42907.32  527.540571  2.263535e+07  \n",
              "3   41659.53   69.751680  2.905822e+06  \n",
              "4   41914.97  247.151654  1.035935e+07  \n",
              "5   41362.52  114.268970  4.726453e+06  \n",
              "6   41233.87   71.233382  2.937228e+06  \n",
              "7   41432.91  192.789480  7.987829e+06  \n",
              "8   41008.37  291.623181  1.195899e+07  \n",
              "9   40846.38  365.055972  1.491121e+07  \n",
              "10  39840.10  292.856090  1.166742e+07  \n",
              "11  38056.20  120.015812  4.567346e+06  \n",
              "12  38271.13  110.749247  4.238499e+06  \n",
              "13  38367.53   78.152129  2.998504e+06  \n",
              "14  38404.20   80.171871  3.078937e+06  "
            ],
            "text/html": [
              "\n",
              "  <div id=\"df-80aafa55-24ca-46f0-95b0-20ba36b068ac\">\n",
              "    <div class=\"colab-df-container\">\n",
              "      <div>\n",
              "<style scoped>\n",
              "    .dataframe tbody tr th:only-of-type {\n",
              "        vertical-align: middle;\n",
              "    }\n",
              "\n",
              "    .dataframe tbody tr th {\n",
              "        vertical-align: top;\n",
              "    }\n",
              "\n",
              "    .dataframe thead th {\n",
              "        text-align: right;\n",
              "    }\n",
              "</style>\n",
              "<table border=\"1\" class=\"dataframe\">\n",
              "  <thead>\n",
              "    <tr style=\"text-align: right;\">\n",
              "      <th></th>\n",
              "      <th>unix</th>\n",
              "      <th>date</th>\n",
              "      <th>symbol</th>\n",
              "      <th>open</th>\n",
              "      <th>high</th>\n",
              "      <th>low</th>\n",
              "      <th>close</th>\n",
              "      <th>Volume BTC</th>\n",
              "      <th>Volume USD</th>\n",
              "    </tr>\n",
              "  </thead>\n",
              "  <tbody>\n",
              "    <tr>\n",
              "      <th>0</th>\n",
              "      <td>1646092800</td>\n",
              "      <td>2022-03-01 00:00:00</td>\n",
              "      <td>BTC/USD</td>\n",
              "      <td>43221.71</td>\n",
              "      <td>43626.49</td>\n",
              "      <td>43185.48</td>\n",
              "      <td>43312.27</td>\n",
              "      <td>52.056320</td>\n",
              "      <td>2.254677e+06</td>\n",
              "    </tr>\n",
              "    <tr>\n",
              "      <th>1</th>\n",
              "      <td>1646089200</td>\n",
              "      <td>2022-02-28 23:00:00</td>\n",
              "      <td>BTC/USD</td>\n",
              "      <td>43085.30</td>\n",
              "      <td>43364.81</td>\n",
              "      <td>42892.37</td>\n",
              "      <td>43178.98</td>\n",
              "      <td>106.816103</td>\n",
              "      <td>4.612210e+06</td>\n",
              "    </tr>\n",
              "    <tr>\n",
              "      <th>2</th>\n",
              "      <td>1646085600</td>\n",
              "      <td>2022-02-28 22:00:00</td>\n",
              "      <td>BTC/USD</td>\n",
              "      <td>41657.23</td>\n",
              "      <td>44256.08</td>\n",
              "      <td>41650.29</td>\n",
              "      <td>42907.32</td>\n",
              "      <td>527.540571</td>\n",
              "      <td>2.263535e+07</td>\n",
              "    </tr>\n",
              "    <tr>\n",
              "      <th>3</th>\n",
              "      <td>1646082000</td>\n",
              "      <td>2022-02-28 21:00:00</td>\n",
              "      <td>BTC/USD</td>\n",
              "      <td>41917.09</td>\n",
              "      <td>41917.09</td>\n",
              "      <td>41542.60</td>\n",
              "      <td>41659.53</td>\n",
              "      <td>69.751680</td>\n",
              "      <td>2.905822e+06</td>\n",
              "    </tr>\n",
              "    <tr>\n",
              "      <th>4</th>\n",
              "      <td>1646078400</td>\n",
              "      <td>2022-02-28 20:00:00</td>\n",
              "      <td>BTC/USD</td>\n",
              "      <td>41361.99</td>\n",
              "      <td>41971.00</td>\n",
              "      <td>41284.11</td>\n",
              "      <td>41914.97</td>\n",
              "      <td>247.151654</td>\n",
              "      <td>1.035935e+07</td>\n",
              "    </tr>\n",
              "    <tr>\n",
              "      <th>5</th>\n",
              "      <td>1646074800</td>\n",
              "      <td>2022-02-28 19:00:00</td>\n",
              "      <td>BTC/USD</td>\n",
              "      <td>41228.49</td>\n",
              "      <td>41406.03</td>\n",
              "      <td>41036.37</td>\n",
              "      <td>41362.52</td>\n",
              "      <td>114.268970</td>\n",
              "      <td>4.726453e+06</td>\n",
              "    </tr>\n",
              "    <tr>\n",
              "      <th>6</th>\n",
              "      <td>1646071200</td>\n",
              "      <td>2022-02-28 18:00:00</td>\n",
              "      <td>BTC/USD</td>\n",
              "      <td>41432.91</td>\n",
              "      <td>41476.20</td>\n",
              "      <td>41032.06</td>\n",
              "      <td>41233.87</td>\n",
              "      <td>71.233382</td>\n",
              "      <td>2.937228e+06</td>\n",
              "    </tr>\n",
              "    <tr>\n",
              "      <th>7</th>\n",
              "      <td>1646067600</td>\n",
              "      <td>2022-02-28 17:00:00</td>\n",
              "      <td>BTC/USD</td>\n",
              "      <td>41031.78</td>\n",
              "      <td>41432.91</td>\n",
              "      <td>40524.73</td>\n",
              "      <td>41432.91</td>\n",
              "      <td>192.789480</td>\n",
              "      <td>7.987829e+06</td>\n",
              "    </tr>\n",
              "    <tr>\n",
              "      <th>8</th>\n",
              "      <td>1646064000</td>\n",
              "      <td>2022-02-28 16:00:00</td>\n",
              "      <td>BTC/USD</td>\n",
              "      <td>40860.33</td>\n",
              "      <td>41341.18</td>\n",
              "      <td>40710.00</td>\n",
              "      <td>41008.37</td>\n",
              "      <td>291.623181</td>\n",
              "      <td>1.195899e+07</td>\n",
              "    </tr>\n",
              "    <tr>\n",
              "      <th>9</th>\n",
              "      <td>1646060400</td>\n",
              "      <td>2022-02-28 15:00:00</td>\n",
              "      <td>BTC/USD</td>\n",
              "      <td>39830.50</td>\n",
              "      <td>40912.56</td>\n",
              "      <td>39634.59</td>\n",
              "      <td>40846.38</td>\n",
              "      <td>365.055972</td>\n",
              "      <td>1.491121e+07</td>\n",
              "    </tr>\n",
              "    <tr>\n",
              "      <th>10</th>\n",
              "      <td>1646056800</td>\n",
              "      <td>2022-02-28 14:00:00</td>\n",
              "      <td>BTC/USD</td>\n",
              "      <td>38021.83</td>\n",
              "      <td>39913.48</td>\n",
              "      <td>38021.83</td>\n",
              "      <td>39840.10</td>\n",
              "      <td>292.856090</td>\n",
              "      <td>1.166742e+07</td>\n",
              "    </tr>\n",
              "    <tr>\n",
              "      <th>11</th>\n",
              "      <td>1646053200</td>\n",
              "      <td>2022-02-28 13:00:00</td>\n",
              "      <td>BTC/USD</td>\n",
              "      <td>38258.03</td>\n",
              "      <td>38365.84</td>\n",
              "      <td>37914.32</td>\n",
              "      <td>38056.20</td>\n",
              "      <td>120.015812</td>\n",
              "      <td>4.567346e+06</td>\n",
              "    </tr>\n",
              "    <tr>\n",
              "      <th>12</th>\n",
              "      <td>1646049600</td>\n",
              "      <td>2022-02-28 12:00:00</td>\n",
              "      <td>BTC/USD</td>\n",
              "      <td>38365.56</td>\n",
              "      <td>38669.43</td>\n",
              "      <td>38197.52</td>\n",
              "      <td>38271.13</td>\n",
              "      <td>110.749247</td>\n",
              "      <td>4.238499e+06</td>\n",
              "    </tr>\n",
              "    <tr>\n",
              "      <th>13</th>\n",
              "      <td>1646046000</td>\n",
              "      <td>2022-02-28 11:00:00</td>\n",
              "      <td>BTC/USD</td>\n",
              "      <td>38407.79</td>\n",
              "      <td>38505.31</td>\n",
              "      <td>38146.67</td>\n",
              "      <td>38367.53</td>\n",
              "      <td>78.152129</td>\n",
              "      <td>2.998504e+06</td>\n",
              "    </tr>\n",
              "    <tr>\n",
              "      <th>14</th>\n",
              "      <td>1646042400</td>\n",
              "      <td>2022-02-28 10:00:00</td>\n",
              "      <td>BTC/USD</td>\n",
              "      <td>38114.28</td>\n",
              "      <td>38474.51</td>\n",
              "      <td>38104.13</td>\n",
              "      <td>38404.20</td>\n",
              "      <td>80.171871</td>\n",
              "      <td>3.078937e+06</td>\n",
              "    </tr>\n",
              "  </tbody>\n",
              "</table>\n",
              "</div>\n",
              "      <button class=\"colab-df-convert\" onclick=\"convertToInteractive('df-80aafa55-24ca-46f0-95b0-20ba36b068ac')\"\n",
              "              title=\"Convert this dataframe to an interactive table.\"\n",
              "              style=\"display:none;\">\n",
              "        \n",
              "  <svg xmlns=\"http://www.w3.org/2000/svg\" height=\"24px\"viewBox=\"0 0 24 24\"\n",
              "       width=\"24px\">\n",
              "    <path d=\"M0 0h24v24H0V0z\" fill=\"none\"/>\n",
              "    <path d=\"M18.56 5.44l.94 2.06.94-2.06 2.06-.94-2.06-.94-.94-2.06-.94 2.06-2.06.94zm-11 1L8.5 8.5l.94-2.06 2.06-.94-2.06-.94L8.5 2.5l-.94 2.06-2.06.94zm10 10l.94 2.06.94-2.06 2.06-.94-2.06-.94-.94-2.06-.94 2.06-2.06.94z\"/><path d=\"M17.41 7.96l-1.37-1.37c-.4-.4-.92-.59-1.43-.59-.52 0-1.04.2-1.43.59L10.3 9.45l-7.72 7.72c-.78.78-.78 2.05 0 2.83L4 21.41c.39.39.9.59 1.41.59.51 0 1.02-.2 1.41-.59l7.78-7.78 2.81-2.81c.8-.78.8-2.07 0-2.86zM5.41 20L4 18.59l7.72-7.72 1.47 1.35L5.41 20z\"/>\n",
              "  </svg>\n",
              "      </button>\n",
              "      \n",
              "  <style>\n",
              "    .colab-df-container {\n",
              "      display:flex;\n",
              "      flex-wrap:wrap;\n",
              "      gap: 12px;\n",
              "    }\n",
              "\n",
              "    .colab-df-convert {\n",
              "      background-color: #E8F0FE;\n",
              "      border: none;\n",
              "      border-radius: 50%;\n",
              "      cursor: pointer;\n",
              "      display: none;\n",
              "      fill: #1967D2;\n",
              "      height: 32px;\n",
              "      padding: 0 0 0 0;\n",
              "      width: 32px;\n",
              "    }\n",
              "\n",
              "    .colab-df-convert:hover {\n",
              "      background-color: #E2EBFA;\n",
              "      box-shadow: 0px 1px 2px rgba(60, 64, 67, 0.3), 0px 1px 3px 1px rgba(60, 64, 67, 0.15);\n",
              "      fill: #174EA6;\n",
              "    }\n",
              "\n",
              "    [theme=dark] .colab-df-convert {\n",
              "      background-color: #3B4455;\n",
              "      fill: #D2E3FC;\n",
              "    }\n",
              "\n",
              "    [theme=dark] .colab-df-convert:hover {\n",
              "      background-color: #434B5C;\n",
              "      box-shadow: 0px 1px 3px 1px rgba(0, 0, 0, 0.15);\n",
              "      filter: drop-shadow(0px 1px 2px rgba(0, 0, 0, 0.3));\n",
              "      fill: #FFFFFF;\n",
              "    }\n",
              "  </style>\n",
              "\n",
              "      <script>\n",
              "        const buttonEl =\n",
              "          document.querySelector('#df-80aafa55-24ca-46f0-95b0-20ba36b068ac button.colab-df-convert');\n",
              "        buttonEl.style.display =\n",
              "          google.colab.kernel.accessAllowed ? 'block' : 'none';\n",
              "\n",
              "        async function convertToInteractive(key) {\n",
              "          const element = document.querySelector('#df-80aafa55-24ca-46f0-95b0-20ba36b068ac');\n",
              "          const dataTable =\n",
              "            await google.colab.kernel.invokeFunction('convertToInteractive',\n",
              "                                                     [key], {});\n",
              "          if (!dataTable) return;\n",
              "\n",
              "          const docLinkHtml = 'Like what you see? Visit the ' +\n",
              "            '<a target=\"_blank\" href=https://colab.research.google.com/notebooks/data_table.ipynb>data table notebook</a>'\n",
              "            + ' to learn more about interactive tables.';\n",
              "          element.innerHTML = '';\n",
              "          dataTable['output_type'] = 'display_data';\n",
              "          await google.colab.output.renderOutput(dataTable, element);\n",
              "          const docLink = document.createElement('div');\n",
              "          docLink.innerHTML = docLinkHtml;\n",
              "          element.appendChild(docLink);\n",
              "        }\n",
              "      </script>\n",
              "    </div>\n",
              "  </div>\n",
              "  "
            ]
          },
          "metadata": {},
          "execution_count": 76
        }
      ],
      "source": [
        "df.head(15)"
      ]
    },
    {
      "cell_type": "code",
      "execution_count": 77,
      "metadata": {
        "colab": {
          "base_uri": "https://localhost:8080/"
        },
        "id": "fPaHH02aw1Qh",
        "outputId": "a54040d7-e562-43ae-bf2b-140f2d7f0fc6"
      },
      "outputs": [
        {
          "output_type": "execute_result",
          "data": {
            "text/plain": [
              "(Timestamp('2018-05-15 06:00:00'), Timestamp('2022-03-01 00:00:00'))"
            ]
          },
          "metadata": {},
          "execution_count": 77
        }
      ],
      "source": [
        "df[\"date\"].min(), df[\"date\"].max()"
      ]
    },
    {
      "cell_type": "code",
      "execution_count": 78,
      "metadata": {
        "colab": {
          "base_uri": "https://localhost:8080/",
          "height": 308
        },
        "id": "-mH537L4xAGe",
        "outputId": "4ffeee80-890d-4389-cc16-25d4668b0702"
      },
      "outputs": [
        {
          "output_type": "execute_result",
          "data": {
            "text/plain": [
              "<matplotlib.axes._subplots.AxesSubplot at 0x7f6654f1f760>"
            ]
          },
          "metadata": {},
          "execution_count": 78
        },
        {
          "output_type": "display_data",
          "data": {
            "text/plain": [
              "<Figure size 432x288 with 1 Axes>"
            ],
            "image/png": "[encoded data removed]"
          },
          "metadata": {
            "needs_background": "light"
          }
        }
      ],
      "source": [
        "df.plot(x=\"date\", y=\"open\")"
      ]
    },
    {
      "cell_type": "code",
      "source": [
        "scaler = MinMaxScaler(feature_range=(0, 1))\n",
        "print(df[[\"close\"]].iloc[:5])\n",
        "df_close_transformed = np.array(scaler.fit_transform(df[[\"close\"]].values), dtype=np.float32)\n",
        "df_close_transformed"
      ],
      "metadata": {
        "colab": {
          "base_uri": "https://localhost:8080/"
        },
        "id": "tkaVFAukMq3y",
        "outputId": "1143b2e1-1053-462e-fa22-715cb6d4c929"
      },
      "execution_count": 87,
      "outputs": [
        {
          "output_type": "stream",
          "name": "stdout",
          "text": [
            "      close\n",
            "0  43312.27\n",
            "1  43178.98\n",
            "2  42907.32\n",
            "3  41659.53\n",
            "4  41914.97\n"
          ]
        },
        {
          "output_type": "execute_result",
          "data": {
            "text/plain": [
              "array([[0.61344016],\n",
              "       [0.61140484],\n",
              "       [0.60725653],\n",
              "       ...,\n",
              "       [0.08534073],\n",
              "       [0.08550122],\n",
              "       [0.08553161]], dtype=float32)"
            ]
          },
          "metadata": {},
          "execution_count": 87
        }
      ]
    },
    {
      "cell_type": "code",
      "execution_count": 94,
      "metadata": {
        "id": "fFB6AfMAzkyO",
        "colab": {
          "base_uri": "https://localhost:8080/"
        },
        "outputId": "4d9a32f0-6c6b-4d81-a630-09de1cbcb92d"
      },
      "outputs": [
        {
          "output_type": "execute_result",
          "data": {
            "text/plain": [
              "(array([[0.08553161],\n",
              "        [0.08550122],\n",
              "        [0.08534073],\n",
              "        ...,\n",
              "        [0.5499359 ],\n",
              "        [0.5449728 ],\n",
              "        [0.5399433 ]], dtype=float32), array([[0.54752123],\n",
              "        [0.54053944],\n",
              "        [0.5400091 ],\n",
              "        ...,\n",
              "        [0.60725653],\n",
              "        [0.61140484],\n",
              "        [0.61344016]], dtype=float32))"
            ]
          },
          "metadata": {},
          "execution_count": 94
        }
      ],
      "source": [
        "from sklearn.model_selection import train_test_split\n",
        "\n",
        "train, test = train_test_split(df_close_transformed[::-1], test_size=0.2, shuffle=False)\n",
        "\n",
        "train, test"
      ]
    },
    {
      "cell_type": "code",
      "execution_count": 95,
      "metadata": {
        "colab": {
          "base_uri": "https://localhost:8080/"
        },
        "id": "EqEtb2W30ayC",
        "outputId": "33e1a831-d846-4eda-dcdf-9bd91e33410a"
      },
      "outputs": [
        {
          "output_type": "execute_result",
          "data": {
            "text/plain": [
              "((26607, 1), (6652, 1))"
            ]
          },
          "metadata": {},
          "execution_count": 95
        }
      ],
      "source": [
        "train.shape, test.shape"
      ]
    },
    {
      "cell_type": "code",
      "source": [
        "from keras.preprocessing.sequence import TimeseriesGenerator\n",
        "\n",
        "generator_train = TimeseriesGenerator(train, train, length=14, batch_size=1)\n",
        "generator_val = TimeseriesGenerator(test, test, length=14, batch_size=1)"
      ],
      "metadata": {
        "id": "LvW0b8dz3_Hg"
      },
      "execution_count": 96,
      "outputs": []
    },
    {
      "cell_type": "code",
      "source": [
        "for i in range(3):\n",
        "    x, y = generator_train[i]\n",
        "    print('%s => %s' % (x, y))"
      ],
      "metadata": {
        "colab": {
          "base_uri": "https://localhost:8080/"
        },
        "id": "_WjBn9Yt7Zx6",
        "outputId": "6eac3bcc-078b-4151-9875-618d9ddb83ef"
      },
      "execution_count": 98,
      "outputs": [
        {
          "output_type": "stream",
          "name": "stdout",
          "text": [
            "[[[0.08553161]\n",
            "  [0.08550122]\n",
            "  [0.08534073]\n",
            "  [0.08503274]\n",
            "  [0.0863701 ]\n",
            "  [0.0858219 ]\n",
            "  [0.0858219 ]\n",
            "  [0.08581014]\n",
            "  [0.08212301]\n",
            "  [0.08216164]\n",
            "  [0.08238962]\n",
            "  [0.08255928]\n",
            "  [0.0822586 ]\n",
            "  [0.08270068]]] => [[0.08203643]]\n",
            "[[[0.08550122]\n",
            "  [0.08534073]\n",
            "  [0.08503274]\n",
            "  [0.0863701 ]\n",
            "  [0.0858219 ]\n",
            "  [0.0858219 ]\n",
            "  [0.08581014]\n",
            "  [0.08212301]\n",
            "  [0.08216164]\n",
            "  [0.08238962]\n",
            "  [0.08255928]\n",
            "  [0.0822586 ]\n",
            "  [0.08270068]\n",
            "  [0.08203643]]] => [[0.08173377]]\n",
            "[[[0.08534073]\n",
            "  [0.08503274]\n",
            "  [0.0863701 ]\n",
            "  [0.0858219 ]\n",
            "  [0.0858219 ]\n",
            "  [0.08581014]\n",
            "  [0.08212301]\n",
            "  [0.08216164]\n",
            "  [0.08238962]\n",
            "  [0.08255928]\n",
            "  [0.0822586 ]\n",
            "  [0.08270068]\n",
            "  [0.08203643]\n",
            "  [0.08173377]]] => [[0.08124086]]\n"
          ]
        }
      ]
    },
    {
      "cell_type": "code",
      "execution_count": 99,
      "metadata": {
        "id": "SWumyS1P1WOU"
      },
      "outputs": [],
      "source": [
        "def make_dataset(\n",
        "    df,\n",
        "    window_size, \n",
        "    batch_size,\n",
        "    use_scaler=True,\n",
        "    shuffle=True\n",
        "    ):\n",
        "    features = df[[\"close\"]].iloc[:-window_size]\n",
        "    if use_scaler:\n",
        "        features = scaler.transform(features)\n",
        "    data = np.array(features, dtype=np.float32)\n",
        "    ds = tf.keras.preprocessing.timeseries_dataset_from_array(\n",
        "        data=data,\n",
        "        targets=df[\"close\"].iloc[window_size:],\n",
        "        sequence_length=window_size,\n",
        "        sequence_stride=1,\n",
        "        shuffle=shuffle,\n",
        "        batch_size=batch_size)\n",
        "    return ds"
      ]
    },
    {
      "cell_type": "code",
      "execution_count": 100,
      "metadata": {
        "colab": {
          "base_uri": "https://localhost:8080/",
          "referenced_widgets": [
            "ca0e903923b44bf09e027dbae518b75d",
            "8bb25eb1fea548f5ad54dc843113bc15",
            "dd04b7da12c747529576147751b0750b",
            "fec43b24f38745cd996373f1ae7ac23d",
            "263d822b04744c888e3379c6f7792644",
            "fd2e7ddc55fe4e0bb2c63999de6b3ab2",
            "1be05047d2a34d83b3b03bfd5afc5842",
            "a8e88d85be3d4897bfcd5d8eff537d65",
            "42661a1e6c974686ba4f8ee07416b6cc",
            "5183755fea524682b3099becda887398",
            "cef6577299574f7bb6a56ee851fdc587",
            "c9acba5745b544edbaf3b8bcbf5ad447",
            "78ec8f4c111941009237310adc4f6e9d",
            "78b6c56029de45c9a7a3d3f86577f56a",
            "06828eec12224c1db02a5108ad0d5fee",
            "c1dc3a97cc65441a8d7d1def9e1c21ec",
            "6614890860ea47c7bb23ff24b8f5d32b",
            "19a63007e7c0468a897d47856ac37621",
            "e947c1af11f74c6db50c1193ab9e66d1",
            "eb1c676a09bf4feeaf95dab2918a3fb3",
            "ea84f6252c2041a8852481d8bed8c462",
            "d8c0ef6f221046f98598330433d79a09"
          ],
          "height": 77
        },
        "id": "J7XbkzUrABzO",
        "outputId": "62d1e561-9813-4ea2-cbb0-6240d6f59d83"
      },
      "outputs": [
        {
          "output_type": "display_data",
          "data": {
            "text/plain": [
              "0epoch [00:00, ?epoch/s]"
            ],
            "application/vnd.jupyter.widget-view+json": {
              "version_major": 2,
              "version_minor": 0,
              "model_id": "ca0e903923b44bf09e027dbae518b75d"
            }
          },
          "metadata": {}
        },
        {
          "output_type": "display_data",
          "data": {
            "text/plain": [
              "0batch [00:00, ?batch/s]"
            ],
            "application/vnd.jupyter.widget-view+json": {
              "version_major": 2,
              "version_minor": 0,
              "model_id": "c9acba5745b544edbaf3b8bcbf5ad447"
            }
          },
          "metadata": {}
        }
      ],
      "source": [
        "lstm_model = tf.keras.models.Sequential([\n",
        "    tf.keras.layers.LSTM(14, return_sequences=True),\n",
        "    tf.keras.layers.Dropout(0.3),\n",
        "    tf.keras.layers.LSTM(6, return_sequences=False),\n",
        "    tf.keras.layers.Dropout(0.3),\n",
        "    tf.keras.layers.Dense(1)\n",
        "    ])\n",
        "\n",
        "lstm_model.compile(\n",
        "        loss=tf.losses.MeanSquaredError(),\n",
        "        optimizer=tf.optimizers.Adam(),\n",
        "        metrics=[tf.metrics.MeanAbsoluteError()]\n",
        "      )\n",
        "history = lstm_model.fit(\n",
        "      generator_train, \n",
        "      epochs=10,\n",
        "      validation_data=generator_val,\n",
        "      batch_size=1,\n",
        "      verbose=0, \n",
        "      callbacks=[TqdmCallback(verbose=1)]\n",
        "      )"
      ]
    },
    {
      "cell_type": "code",
      "execution_count": 102,
      "metadata": {
        "colab": {
          "base_uri": "https://localhost:8080/"
        },
        "id": "eQMHAnrQAWkV",
        "outputId": "2aa3be0d-6f48-48a6-cbdd-846651455149"
      },
      "outputs": [
        {
          "output_type": "stream",
          "name": "stdout",
          "text": [
            "26593/26593 [==============================] - 111s 4ms/step - loss: 5.8939e-04 - mean_absolute_error: 0.0149\n"
          ]
        },
        {
          "output_type": "execute_result",
          "data": {
            "text/plain": [
              "[0.0005893928464502096, 0.014918025583028793]"
            ]
          },
          "metadata": {},
          "execution_count": 102
        }
      ],
      "source": [
        "lstm_model.evaluate(generator_train)"
      ]
    },
    {
      "cell_type": "code",
      "execution_count": 104,
      "metadata": {
        "colab": {
          "base_uri": "https://localhost:8080/"
        },
        "id": "Mz_QJBH6CerO",
        "outputId": "d439d03f-05d7-4a4b-ff61-e3ac4da26ada"
      },
      "outputs": [
        {
          "output_type": "stream",
          "name": "stdout",
          "text": [
            "6638/6638 [==============================] - 28s 4ms/step - loss: 0.0047 - mean_absolute_error: 0.0670\n"
          ]
        },
        {
          "output_type": "execute_result",
          "data": {
            "text/plain": [
              "[0.00468364218249917, 0.06703248620033264]"
            ]
          },
          "metadata": {},
          "execution_count": 104
        }
      ],
      "source": [
        "lstm_model.evaluate(generator_val)"
      ]
    },
    {
      "cell_type": "code",
      "execution_count": 105,
      "metadata": {
        "colab": {
          "base_uri": "https://localhost:8080/",
          "height": 282
        },
        "id": "e0RUvuekCgfk",
        "outputId": "0639c2de-c004-4c3c-b6bf-80cb0ffe0bc8"
      },
      "outputs": [
        {
          "output_type": "execute_result",
          "data": {
            "text/plain": [
              "[<matplotlib.lines.Line2D at 0x7f66503ecb50>]"
            ]
          },
          "metadata": {},
          "execution_count": 105
        },
        {
          "output_type": "display_data",
          "data": {
            "text/plain": [
              "<Figure size 432x288 with 1 Axes>"
            ],
            "image/png": "[encoded data removed]"
          },
          "metadata": {
            "needs_background": "light"
          }
        }
      ],
      "source": [
        "plt.plot(history.history['mean_absolute_error'])"
      ]
    },
    {
      "cell_type": "code",
      "execution_count": 106,
      "metadata": {
        "colab": {
          "base_uri": "https://localhost:8080/",
          "height": 282
        },
        "id": "JZypsPgACmP1",
        "outputId": "d2b92c61-40dc-441a-9f5e-a9d39ba79033"
      },
      "outputs": [
        {
          "output_type": "execute_result",
          "data": {
            "text/plain": [
              "[<matplotlib.lines.Line2D at 0x7f6650340f40>]"
            ]
          },
          "metadata": {},
          "execution_count": 106
        },
        {
          "output_type": "display_data",
          "data": {
            "text/plain": [
              "<Figure size 432x288 with 1 Axes>"
            ],
            "image/png": "[encoded data removed]"
          },
          "metadata": {
            "needs_background": "light"
          }
        }
      ],
      "source": [
        "plt.plot(history.history['val_mean_absolute_error'])"
      ]
    },
    {
      "cell_type": "code",
      "execution_count": 107,
      "metadata": {
        "colab": {
          "base_uri": "https://localhost:8080/"
        },
        "id": "YQfO16wNCpBc",
        "outputId": "30844829-13aa-43af-b9a8-ad3903d5467b"
      },
      "outputs": [
        {
          "output_type": "stream",
          "name": "stderr",
          "text": [
            "WARNING:absl:Found untraced functions such as lstm_cell_13_layer_call_fn, lstm_cell_13_layer_call_and_return_conditional_losses, lstm_cell_14_layer_call_fn, lstm_cell_14_layer_call_and_return_conditional_losses while saving (showing 4 of 4). These functions will not be directly callable after loading.\n"
          ]
        }
      ],
      "source": [
        "lstm_model.save('')"
      ]
    },
    {
      "cell_type": "code",
      "execution_count": 121,
      "metadata": {
        "colab": {
          "base_uri": "https://localhost:8080/"
        },
        "id": "OwO4CWLrqvus",
        "outputId": "f2e9becc-72d1-4840-a389-5d1c6d14644d"
      },
      "outputs": [
        {
          "output_type": "stream",
          "name": "stdout",
          "text": [
            "1/1 [==============================] - 0s 51ms/step\n",
            "[[0.44284594]]\n",
            "(array([[[0.54752123],\n",
            "        [0.54053944],\n",
            "        [0.5400091 ],\n",
            "        [0.53308165],\n",
            "        [0.535465  ],\n",
            "        [0.5373993 ],\n",
            "        [0.5366909 ],\n",
            "        [0.52287155],\n",
            "        [0.51734775],\n",
            "        [0.5151108 ],\n",
            "        [0.51705086],\n",
            "        [0.50232726],\n",
            "        [0.5024291 ],\n",
            "        [0.5015283 ]]], dtype=float32), array([[0.49260873]], dtype=float32))\n"
          ]
        }
      ],
      "source": [
        "prediction = lstm_model.predict(generator_val[0][:14])\n",
        "print(prediction)\n",
        "print(generator_val[0])"
      ]
    }
  ],
  "metadata": {
    "colab": {
      "provenance": [],
      "include_colab_link": true
    },
    "kernelspec": {
      "display_name": "Python 3",
      "name": "python3"
    },
    "language_info": {
      "name": "python"
    },
    "widgets": {
      "application/vnd.jupyter.widget-state+json": {
        "ca0e903923b44bf09e027dbae518b75d": {
          "model_module": "@jupyter-widgets/controls",
          "model_name": "HBoxModel",
          "model_module_version": "1.5.0",
          "state": {
            "_dom_classes": [],
            "_model_module": "@jupyter-widgets/controls",
            "_model_module_version": "1.5.0",
            "_model_name": "HBoxModel",
            "_view_count": null,
            "_view_module": "@jupyter-widgets/controls",
            "_view_module_version": "1.5.0",
            "_view_name": "HBoxView",
            "box_style": "",
            "children": [
              "IPY_MODEL_8bb25eb1fea548f5ad54dc843113bc15",
              "IPY_MODEL_dd04b7da12c747529576147751b0750b",
              "IPY_MODEL_fec43b24f38745cd996373f1ae7ac23d"
            ],
            "layout": "IPY_MODEL_263d822b04744c888e3379c6f7792644"
          }
        },
        "8bb25eb1fea548f5ad54dc843113bc15": {
          "model_module": "@jupyter-widgets/controls",
          "model_name": "HTMLModel",
          "model_module_version": "1.5.0",
          "state": {
            "_dom_classes": [],
            "_model_module": "@jupyter-widgets/controls",
            "_model_module_version": "1.5.0",
            "_model_name": "HTMLModel",
            "_view_count": null,
            "_view_module": "@jupyter-widgets/controls",
            "_view_module_version": "1.5.0",
            "_view_name": "HTMLView",
            "description": "",
            "description_tooltip": null,
            "layout": "IPY_MODEL_fd2e7ddc55fe4e0bb2c63999de6b3ab2",
            "placeholder": "​",
            "style": "IPY_MODEL_1be05047d2a34d83b3b03bfd5afc5842",
            "value": "100%"
          }
        },
        "dd04b7da12c747529576147751b0750b": {
          "model_module": "@jupyter-widgets/controls",
          "model_name": "FloatProgressModel",
          "model_module_version": "1.5.0",
          "state": {
            "_dom_classes": [],
            "_model_module": "@jupyter-widgets/controls",
            "_model_module_version": "1.5.0",
            "_model_name": "FloatProgressModel",
            "_view_count": null,
            "_view_module": "@jupyter-widgets/controls",
            "_view_module_version": "1.5.0",
            "_view_name": "ProgressView",
            "bar_style": "success",
            "description": "",
            "description_tooltip": null,
            "layout": "IPY_MODEL_a8e88d85be3d4897bfcd5d8eff537d65",
            "max": 10,
            "min": 0,
            "orientation": "horizontal",
            "style": "IPY_MODEL_42661a1e6c974686ba4f8ee07416b6cc",
            "value": 10
          }
        },
        "fec43b24f38745cd996373f1ae7ac23d": {
          "model_module": "@jupyter-widgets/controls",
          "model_name": "HTMLModel",
          "model_module_version": "1.5.0",
          "state": {
            "_dom_classes": [],
            "_model_module": "@jupyter-widgets/controls",
            "_model_module_version": "1.5.0",
            "_model_name": "HTMLModel",
            "_view_count": null,
            "_view_module": "@jupyter-widgets/controls",
            "_view_module_version": "1.5.0",
            "_view_name": "HTMLView",
            "description": "",
            "description_tooltip": null,
            "layout": "IPY_MODEL_5183755fea524682b3099becda887398",
            "placeholder": "​",
            "style": "IPY_MODEL_cef6577299574f7bb6a56ee851fdc587",
            "value": " 10/10 [58:58&lt;00:00, 359.16s/epoch, loss=0.00357, mean_absolute_error=0.0334, val_loss=0.00468, val_mean_absolute_error=0.067]"
          }
        },
        "263d822b04744c888e3379c6f7792644": {
          "model_module": "@jupyter-widgets/base",
          "model_name": "LayoutModel",
          "model_module_version": "1.2.0",
          "state": {
            "_model_module": "@jupyter-widgets/base",
            "_model_module_version": "1.2.0",
            "_model_name": "LayoutModel",
            "_view_count": null,
            "_view_module": "@jupyter-widgets/base",
            "_view_module_version": "1.2.0",
            "_view_name": "LayoutView",
            "align_content": null,
            "align_items": null,
            "align_self": null,
            "border": null,
            "bottom": null,
            "display": null,
            "flex": null,
            "flex_flow": null,
            "grid_area": null,
            "grid_auto_columns": null,
            "grid_auto_flow": null,
            "grid_auto_rows": null,
            "grid_column": null,
            "grid_gap": null,
            "grid_row": null,
            "grid_template_areas": null,
            "grid_template_columns": null,
            "grid_template_rows": null,
            "height": null,
            "justify_content": null,
            "justify_items": null,
            "left": null,
            "margin": null,
            "max_height": null,
            "max_width": null,
            "min_height": null,
            "min_width": null,
            "object_fit": null,
            "object_position": null,
            "order": null,
            "overflow": null,
            "overflow_x": null,
            "overflow_y": null,
            "padding": null,
            "right": null,
            "top": null,
            "visibility": null,
            "width": null
          }
        },
        "fd2e7ddc55fe4e0bb2c63999de6b3ab2": {
          "model_module": "@jupyter-widgets/base",
          "model_name": "LayoutModel",
          "model_module_version": "1.2.0",
          "state": {
            "_model_module": "@jupyter-widgets/base",
            "_model_module_version": "1.2.0",
            "_model_name": "LayoutModel",
            "_view_count": null,
            "_view_module": "@jupyter-widgets/base",
            "_view_module_version": "1.2.0",
            "_view_name": "LayoutView",
            "align_content": null,
            "align_items": null,
            "align_self": null,
            "border": null,
            "bottom": null,
            "display": null,
            "flex": null,
            "flex_flow": null,
            "grid_area": null,
            "grid_auto_columns": null,
            "grid_auto_flow": null,
            "grid_auto_rows": null,
            "grid_column": null,
            "grid_gap": null,
            "grid_row": null,
            "grid_template_areas": null,
            "grid_template_columns": null,
            "grid_template_rows": null,
            "height": null,
            "justify_content": null,
            "justify_items": null,
            "left": null,
            "margin": null,
            "max_height": null,
            "max_width": null,
            "min_height": null,
            "min_width": null,
            "object_fit": null,
            "object_position": null,
            "order": null,
            "overflow": null,
            "overflow_x": null,
            "overflow_y": null,
            "padding": null,
            "right": null,
            "top": null,
            "visibility": null,
            "width": null
          }
        },
        "1be05047d2a34d83b3b03bfd5afc5842": {
          "model_module": "@jupyter-widgets/controls",
          "model_name": "DescriptionStyleModel",
          "model_module_version": "1.5.0",
          "state": {
            "_model_module": "@jupyter-widgets/controls",
            "_model_module_version": "1.5.0",
            "_model_name": "DescriptionStyleModel",
            "_view_count": null,
            "_view_module": "@jupyter-widgets/base",
            "_view_module_version": "1.2.0",
            "_view_name": "StyleView",
            "description_width": ""
          }
        },
        "a8e88d85be3d4897bfcd5d8eff537d65": {
          "model_module": "@jupyter-widgets/base",
          "model_name": "LayoutModel",
          "model_module_version": "1.2.0",
          "state": {
            "_model_module": "@jupyter-widgets/base",
            "_model_module_version": "1.2.0",
            "_model_name": "LayoutModel",
            "_view_count": null,
            "_view_module": "@jupyter-widgets/base",
            "_view_module_version": "1.2.0",
            "_view_name": "LayoutView",
            "align_content": null,
            "align_items": null,
            "align_self": null,
            "border": null,
            "bottom": null,
            "display": null,
            "flex": null,
            "flex_flow": null,
            "grid_area": null,
            "grid_auto_columns": null,
            "grid_auto_flow": null,
            "grid_auto_rows": null,
            "grid_column": null,
            "grid_gap": null,
            "grid_row": null,
            "grid_template_areas": null,
            "grid_template_columns": null,
            "grid_template_rows": null,
            "height": null,
            "justify_content": null,
            "justify_items": null,
            "left": null,
            "margin": null,
            "max_height": null,
            "max_width": null,
            "min_height": null,
            "min_width": null,
            "object_fit": null,
            "object_position": null,
            "order": null,
            "overflow": null,
            "overflow_x": null,
            "overflow_y": null,
            "padding": null,
            "right": null,
            "top": null,
            "visibility": null,
            "width": null
          }
        },
        "42661a1e6c974686ba4f8ee07416b6cc": {
          "model_module": "@jupyter-widgets/controls",
          "model_name": "ProgressStyleModel",
          "model_module_version": "1.5.0",
          "state": {
            "_model_module": "@jupyter-widgets/controls",
            "_model_module_version": "1.5.0",
            "_model_name": "ProgressStyleModel",
            "_view_count": null,
            "_view_module": "@jupyter-widgets/base",
            "_view_module_version": "1.2.0",
            "_view_name": "StyleView",
            "bar_color": null,
            "description_width": ""
          }
        },
        "5183755fea524682b3099becda887398": {
          "model_module": "@jupyter-widgets/base",
          "model_name": "LayoutModel",
          "model_module_version": "1.2.0",
          "state": {
            "_model_module": "@jupyter-widgets/base",
            "_model_module_version": "1.2.0",
            "_model_name": "LayoutModel",
            "_view_count": null,
            "_view_module": "@jupyter-widgets/base",
            "_view_module_version": "1.2.0",
            "_view_name": "LayoutView",
            "align_content": null,
            "align_items": null,
            "align_self": null,
            "border": null,
            "bottom": null,
            "display": null,
            "flex": null,
            "flex_flow": null,
            "grid_area": null,
            "grid_auto_columns": null,
            "grid_auto_flow": null,
            "grid_auto_rows": null,
            "grid_column": null,
            "grid_gap": null,
            "grid_row": null,
            "grid_template_areas": null,
            "grid_template_columns": null,
            "grid_template_rows": null,
            "height": null,
            "justify_content": null,
            "justify_items": null,
            "left": null,
            "margin": null,
            "max_height": null,
            "max_width": null,
            "min_height": null,
            "min_width": null,
            "object_fit": null,
            "object_position": null,
            "order": null,
            "overflow": null,
            "overflow_x": null,
            "overflow_y": null,
            "padding": null,
            "right": null,
            "top": null,
            "visibility": null,
            "width": null
          }
        },
        "cef6577299574f7bb6a56ee851fdc587": {
          "model_module": "@jupyter-widgets/controls",
          "model_name": "DescriptionStyleModel",
          "model_module_version": "1.5.0",
          "state": {
            "_model_module": "@jupyter-widgets/controls",
            "_model_module_version": "1.5.0",
            "_model_name": "DescriptionStyleModel",
            "_view_count": null,
            "_view_module": "@jupyter-widgets/base",
            "_view_module_version": "1.2.0",
            "_view_name": "StyleView",
            "description_width": ""
          }
        },
        "c9acba5745b544edbaf3b8bcbf5ad447": {
          "model_module": "@jupyter-widgets/controls",
          "model_name": "HBoxModel",
          "model_module_version": "1.5.0",
          "state": {
            "_dom_classes": [],
            "_model_module": "@jupyter-widgets/controls",
            "_model_module_version": "1.5.0",
            "_model_name": "HBoxModel",
            "_view_count": null,
            "_view_module": "@jupyter-widgets/controls",
            "_view_module_version": "1.5.0",
            "_view_name": "HBoxView",
            "box_style": "",
            "children": [
              "IPY_MODEL_78ec8f4c111941009237310adc4f6e9d",
              "IPY_MODEL_78b6c56029de45c9a7a3d3f86577f56a",
              "IPY_MODEL_06828eec12224c1db02a5108ad0d5fee"
            ],
            "layout": "IPY_MODEL_c1dc3a97cc65441a8d7d1def9e1c21ec"
          }
        },
        "78ec8f4c111941009237310adc4f6e9d": {
          "model_module": "@jupyter-widgets/controls",
          "model_name": "HTMLModel",
          "model_module_version": "1.5.0",
          "state": {
            "_dom_classes": [],
            "_model_module": "@jupyter-widgets/controls",
            "_model_module_version": "1.5.0",
            "_model_name": "HTMLModel",
            "_view_count": null,
            "_view_module": "@jupyter-widgets/controls",
            "_view_module_version": "1.5.0",
            "_view_name": "HTMLView",
            "description": "",
            "description_tooltip": null,
            "layout": "IPY_MODEL_6614890860ea47c7bb23ff24b8f5d32b",
            "placeholder": "​",
            "style": "IPY_MODEL_19a63007e7c0468a897d47856ac37621",
            "value": "100%"
          }
        },
        "78b6c56029de45c9a7a3d3f86577f56a": {
          "model_module": "@jupyter-widgets/controls",
          "model_name": "FloatProgressModel",
          "model_module_version": "1.5.0",
          "state": {
            "_dom_classes": [],
            "_model_module": "@jupyter-widgets/controls",
            "_model_module_version": "1.5.0",
            "_model_name": "FloatProgressModel",
            "_view_count": null,
            "_view_module": "@jupyter-widgets/controls",
            "_view_module_version": "1.5.0",
            "_view_name": "ProgressView",
            "bar_style": "",
            "description": "",
            "description_tooltip": null,
            "layout": "IPY_MODEL_e947c1af11f74c6db50c1193ab9e66d1",
            "max": 26593,
            "min": 0,
            "orientation": "horizontal",
            "style": "IPY_MODEL_eb1c676a09bf4feeaf95dab2918a3fb3",
            "value": 26593
          }
        },
        "06828eec12224c1db02a5108ad0d5fee": {
          "model_module": "@jupyter-widgets/controls",
          "model_name": "HTMLModel",
          "model_module_version": "1.5.0",
          "state": {
            "_dom_classes": [],
            "_model_module": "@jupyter-widgets/controls",
            "_model_module_version": "1.5.0",
            "_model_name": "HTMLModel",
            "_view_count": null,
            "_view_module": "@jupyter-widgets/controls",
            "_view_module_version": "1.5.0",
            "_view_name": "HTMLView",
            "description": "",
            "description_tooltip": null,
            "layout": "IPY_MODEL_ea84f6252c2041a8852481d8bed8c462",
            "placeholder": "​",
            "style": "IPY_MODEL_d8c0ef6f221046f98598330433d79a09",
            "value": " 26.6k/26.6k [05:56&lt;00:00, 85.1batch/s, loss=0.00357, mean_absolute_error=0.0334]"
          }
        },
        "c1dc3a97cc65441a8d7d1def9e1c21ec": {
          "model_module": "@jupyter-widgets/base",
          "model_name": "LayoutModel",
          "model_module_version": "1.2.0",
          "state": {
            "_model_module": "@jupyter-widgets/base",
            "_model_module_version": "1.2.0",
            "_model_name": "LayoutModel",
            "_view_count": null,
            "_view_module": "@jupyter-widgets/base",
            "_view_module_version": "1.2.0",
            "_view_name": "LayoutView",
            "align_content": null,
            "align_items": null,
            "align_self": null,
            "border": null,
            "bottom": null,
            "display": null,
            "flex": null,
            "flex_flow": null,
            "grid_area": null,
            "grid_auto_columns": null,
            "grid_auto_flow": null,
            "grid_auto_rows": null,
            "grid_column": null,
            "grid_gap": null,
            "grid_row": null,
            "grid_template_areas": null,
            "grid_template_columns": null,
            "grid_template_rows": null,
            "height": null,
            "justify_content": null,
            "justify_items": null,
            "left": null,
            "margin": null,
            "max_height": null,
            "max_width": null,
            "min_height": null,
            "min_width": null,
            "object_fit": null,
            "object_position": null,
            "order": null,
            "overflow": null,
            "overflow_x": null,
            "overflow_y": null,
            "padding": null,
            "right": null,
            "top": null,
            "visibility": "hidden",
            "width": null
          }
        },
        "6614890860ea47c7bb23ff24b8f5d32b": {
          "model_module": "@jupyter-widgets/base",
          "model_name": "LayoutModel",
          "model_module_version": "1.2.0",
          "state": {
            "_model_module": "@jupyter-widgets/base",
            "_model_module_version": "1.2.0",
            "_model_name": "LayoutModel",
            "_view_count": null,
            "_view_module": "@jupyter-widgets/base",
            "_view_module_version": "1.2.0",
            "_view_name": "LayoutView",
            "align_content": null,
            "align_items": null,
            "align_self": null,
            "border": null,
            "bottom": null,
            "display": null,
            "flex": null,
            "flex_flow": null,
            "grid_area": null,
            "grid_auto_columns": null,
            "grid_auto_flow": null,
            "grid_auto_rows": null,
            "grid_column": null,
            "grid_gap": null,
            "grid_row": null,
            "grid_template_areas": null,
            "grid_template_columns": null,
            "grid_template_rows": null,
            "height": null,
            "justify_content": null,
            "justify_items": null,
            "left": null,
            "margin": null,
            "max_height": null,
            "max_width": null,
            "min_height": null,
            "min_width": null,
            "object_fit": null,
            "object_position": null,
            "order": null,
            "overflow": null,
            "overflow_x": null,
            "overflow_y": null,
            "padding": null,
            "right": null,
            "top": null,
            "visibility": null,
            "width": null
          }
        },
        "19a63007e7c0468a897d47856ac37621": {
          "model_module": "@jupyter-widgets/controls",
          "model_name": "DescriptionStyleModel",
          "model_module_version": "1.5.0",
          "state": {
            "_model_module": "@jupyter-widgets/controls",
            "_model_module_version": "1.5.0",
            "_model_name": "DescriptionStyleModel",
            "_view_count": null,
            "_view_module": "@jupyter-widgets/base",
            "_view_module_version": "1.2.0",
            "_view_name": "StyleView",
            "description_width": ""
          }
        },
        "e947c1af11f74c6db50c1193ab9e66d1": {
          "model_module": "@jupyter-widgets/base",
          "model_name": "LayoutModel",
          "model_module_version": "1.2.0",
          "state": {
            "_model_module": "@jupyter-widgets/base",
            "_model_module_version": "1.2.0",
            "_model_name": "LayoutModel",
            "_view_count": null,
            "_view_module": "@jupyter-widgets/base",
            "_view_module_version": "1.2.0",
            "_view_name": "LayoutView",
            "align_content": null,
            "align_items": null,
            "align_self": null,
            "border": null,
            "bottom": null,
            "display": null,
            "flex": null,
            "flex_flow": null,
            "grid_area": null,
            "grid_auto_columns": null,
            "grid_auto_flow": null,
            "grid_auto_rows": null,
            "grid_column": null,
            "grid_gap": null,
            "grid_row": null,
            "grid_template_areas": null,
            "grid_template_columns": null,
            "grid_template_rows": null,
            "height": null,
            "justify_content": null,
            "justify_items": null,
            "left": null,
            "margin": null,
            "max_height": null,
            "max_width": null,
            "min_height": null,
            "min_width": null,
            "object_fit": null,
            "object_position": null,
            "order": null,
            "overflow": null,
            "overflow_x": null,
            "overflow_y": null,
            "padding": null,
            "right": null,
            "top": null,
            "visibility": null,
            "width": null
          }
        },
        "eb1c676a09bf4feeaf95dab2918a3fb3": {
          "model_module": "@jupyter-widgets/controls",
          "model_name": "ProgressStyleModel",
          "model_module_version": "1.5.0",
          "state": {
            "_model_module": "@jupyter-widgets/controls",
            "_model_module_version": "1.5.0",
            "_model_name": "ProgressStyleModel",
            "_view_count": null,
            "_view_module": "@jupyter-widgets/base",
            "_view_module_version": "1.2.0",
            "_view_name": "StyleView",
            "bar_color": null,
            "description_width": ""
          }
        },
        "ea84f6252c2041a8852481d8bed8c462": {
          "model_module": "@jupyter-widgets/base",
          "model_name": "LayoutModel",
          "model_module_version": "1.2.0",
          "state": {
            "_model_module": "@jupyter-widgets/base",
            "_model_module_version": "1.2.0",
            "_model_name": "LayoutModel",
            "_view_count": null,
            "_view_module": "@jupyter-widgets/base",
            "_view_module_version": "1.2.0",
            "_view_name": "LayoutView",
            "align_content": null,
            "align_items": null,
            "align_self": null,
            "border": null,
            "bottom": null,
            "display": null,
            "flex": null,
            "flex_flow": null,
            "grid_area": null,
            "grid_auto_columns": null,
            "grid_auto_flow": null,
            "grid_auto_rows": null,
            "grid_column": null,
            "grid_gap": null,
            "grid_row": null,
            "grid_template_areas": null,
            "grid_template_columns": null,
            "grid_template_rows": null,
            "height": null,
            "justify_content": null,
            "justify_items": null,
            "left": null,
            "margin": null,
            "max_height": null,
            "max_width": null,
            "min_height": null,
            "min_width": null,
            "object_fit": null,
            "object_position": null,
            "order": null,
            "overflow": null,
            "overflow_x": null,
            "overflow_y": null,
            "padding": null,
            "right": null,
            "top": null,
            "visibility": null,
            "width": null
          }
        },
        "d8c0ef6f221046f98598330433d79a09": {
          "model_module": "@jupyter-widgets/controls",
          "model_name": "DescriptionStyleModel",
          "model_module_version": "1.5.0",
          "state": {
            "_model_module": "@jupyter-widgets/controls",
            "_model_module_version": "1.5.0",
            "_model_name": "DescriptionStyleModel",
            "_view_count": null,
            "_view_module": "@jupyter-widgets/base",
            "_view_module_version": "1.2.0",
            "_view_name": "StyleView",
            "description_width": ""
          }
        }
      }
    }
  },
  "nbformat": 4,
  "nbformat_minor": 0
}